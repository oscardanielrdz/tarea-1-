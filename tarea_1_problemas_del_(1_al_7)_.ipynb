{
  "nbformat": 4,
  "nbformat_minor": 0,
  "metadata": {
    "colab": {
      "name": "tarea 1 problemas del (1 al 7) .ipynb",
      "provenance": [],
      "collapsed_sections": []
    },
    "kernelspec": {
      "name": "python3",
      "display_name": "Python 3"
    }
  },
  "cells": [
    {
      "cell_type": "code",
      "metadata": {
        "id": "ZbDs1xN4recT",
        "outputId": "26ed2787-932d-4f1c-88a4-6f896054c291",
        "colab": {
          "base_uri": "https://localhost:8080/"
        }
      },
      "source": [
        "print(\"problema 1 programa para numeros pares e inpares\")\n",
        "a = int (input(\"ingrese el numero:\"))\n",
        "if a % 2==0 : \n",
        " print(\"el numero es un numero par \")\n",
        "else:\n",
        " print(\"el numero es un numero inpar\")"
      ],
      "execution_count": null,
      "outputs": [
        {
          "output_type": "stream",
          "text": [
            "problema 1 programa para numeros pares e inpares\n",
            "ingrese el numero:35\n",
            "el numero es un numero inpar\n"
          ],
          "name": "stdout"
        }
      ]
    },
    {
      "cell_type": "code",
      "metadata": {
        "id": "HHCtQ1H4Lp5N",
        "outputId": "c5e08b4e-cee0-450e-d462-46be9351c2f9",
        "colab": {
          "base_uri": "https://localhost:8080/"
        }
      },
      "source": [
        "print(\"problema 2\")\n",
        "frase = (input(\"introduzca una frase: \"))\n",
        "a = int (input(\"introduzca las veces que se repetira: \"))\n",
        "b = 0\n",
        "while b < a:\n",
        " b = b + 1\n",
        " print(frase)"
      ],
      "execution_count": null,
      "outputs": [
        {
          "output_type": "stream",
          "text": [
            "problema 2\n",
            "introduzca una frase:  I <3 IPN\n",
            "introduzca las veces que se repetira: 3\n",
            " I <3 IPN\n",
            " I <3 IPN\n",
            " I <3 IPN\n"
          ],
          "name": "stdout"
        }
      ]
    },
    {
      "cell_type": "code",
      "metadata": {
        "id": "IgjXafz2LrhK",
        "outputId": "15f4dcf9-abf6-4fd8-e5bc-77a4d959038c",
        "colab": {
          "base_uri": "https://localhost:8080/"
        }
      },
      "source": [
        "print(\"problema 3 pago \")\n",
        "a = int (input(\"ingrese numero de horas\"))\n",
        "b = 150\n",
        "c = a*b \n",
        "d = (a*b)*5\n",
        "e = (a*b)*20\n",
        "print(\"pago por dia es:\",c)\n",
        "print(\"pago por semana es:\",d)\n",
        "print(\"pago por mes es:\",e)"
      ],
      "execution_count": null,
      "outputs": [
        {
          "output_type": "stream",
          "text": [
            "problema 3 pago \n",
            "ingrese numero de horas5\n",
            "pago por dia es: 750\n",
            "pago por semana es: 3750\n",
            "pago por mes es: 15000\n"
          ],
          "name": "stdout"
        }
      ]
    },
    {
      "cell_type": "code",
      "metadata": {
        "id": "tK621rQOLJh-",
        "outputId": "05499ee8-988a-44d2-ba3d-92bfcf410cd9",
        "colab": {
          "base_uri": "https://localhost:8080/"
        }
      },
      "source": [
        "print(\"programa 4 calculadora\")\n",
        "print(\" MENU \")\n",
        "print(\" a. suma \")\n",
        "print(\" b. resta \")\n",
        "print(\" c. multiplicacion \")\n",
        "print(\" d. division \")\n",
        "x = str (input(\"que operacion desea realizar: \")) \n",
        "\n",
        "if x == \"a\" :\n",
        " print(\" suma \") \n",
        " z = int (input(\" introduzca el primer valor: \"))\n",
        " y = int (input(\"introduzca el segundo valor: \"))\n",
        " s = z+y\n",
        " print(\"el resultado de la suma de \", z, \"+\", y, \"es:\" , s) \n",
        "\n",
        "if x == \"b\" :\n",
        " print(\" resta \") \n",
        " z = int (input(\" introduzca el primer valor: \"))\n",
        " y = int (input(\"introduzca el segundo valor: \"))\n",
        " s = z-y\n",
        " print(\"el resultado de la resta de \", z, \"-\", y, \"es:\" , s) \n",
        "\n",
        "if x == \"c\" :\n",
        " print(\" multiplicacion \") \n",
        " z = int (input(\" introduzca el primer valor: \"))\n",
        " y = int (input(\"introduzca el segundo valor: \"))\n",
        " s = z*y\n",
        " print(\"el resultado de la multiplicacion de \", z, \"*\", y, \"es:\" , s) \n",
        "\n",
        "if x == \"d\" :\n",
        " print(\" division \") \n",
        " z = int (input(\" introduzca el primer valor: \"))\n",
        " y = int (input(\"introduzca el segundo valor: \"))\n",
        " while y == 0 :\n",
        "  y = int (input(\"introduzca un segundo valor distinto a 0: \"))\n",
        "  s = z/y\n",
        "print(\"el resultado de la division de \", z, \"/\", y, \"es:\" , s) \n",
        "\n"
      ],
      "execution_count": null,
      "outputs": [
        {
          "output_type": "stream",
          "text": [
            "programa 4 calculadora\n",
            " MENU \n",
            " a. suma \n",
            " b. resta \n",
            " c. multiplicacion \n",
            " d. division \n",
            "que operacion desea realizar: d\n",
            " division \n",
            " introduzca el primer valor: 5\n",
            "introduzca el segundo valor: 0\n",
            "introduzca un segundo valor distinto a 0: 3\n",
            "el resultado de la division de  5 / 3 es: 1.6666666666666667\n"
          ],
          "name": "stdout"
        }
      ]
    },
    {
      "cell_type": "code",
      "metadata": {
        "id": "9VNdpZ5Db-FE",
        "outputId": "d44b1d67-121b-495f-ba72-933156d80ac3",
        "colab": {
          "base_uri": "https://localhost:8080/"
        }
      },
      "source": [
        "print(\"problema 5 tienda \")\n",
        "print(\"PESO DE LOS PRODUCTOS:\")\n",
        "print(\"PAYASO : 150g \")\n",
        "print(\"JUEGO DE MESA : 170g \")\n",
        "print(\"REALICE SU PEDIDO\")\n",
        "def pedido(payasos,juegos):\n",
        "  if (payasos+juegos)>= 10000 :\n",
        "     return [(payasos+juegos)-10000,False]\n",
        "  else: \n",
        "     return [(payasos+juegos),True]\n",
        "\n",
        "p = float (input(\"ingrese el numero de  payasos :\"))\n",
        "j = float (input(\"ingrese el numero de juegos de mesa :\"))\n",
        "res,status = pedido(p*150,j*170)\n",
        "\n",
        "if(status):\n",
        "  print(\"su pedido pesa :\",res,\"g\",\"se realizo con exito\")\n",
        "else:\n",
        "  print(\"error su pedido sobrepasa el peso por\",res,\"g\")\n",
        "\n"
      ],
      "execution_count": 13,
      "outputs": [
        {
          "output_type": "stream",
          "text": [
            "problema 5 tienda \n",
            "PESO DE LOS PRODUCTOS:\n",
            "PAYASO : 150g \n",
            "JUEGO DE MESA : 170g \n",
            "REALICE SU PEDIDO\n",
            "ingrese el numero de  payasos :35\n",
            "ingrese el numero de juegos de mesa :35\n",
            "error su pedido sobrepasa el peso por 1200.0 g\n"
          ],
          "name": "stdout"
        }
      ]
    },
    {
      "cell_type": "code",
      "metadata": {
        "id": "GIipNUi9rcdz",
        "outputId": "00aad24f-e0c5-47e1-9681-f74f71c58765",
        "colab": {
          "base_uri": "https://localhost:8080/"
        }
      },
      "source": [
        "\n",
        "print(\"problema 6 salarios \")\n",
        "def descuento(salario):\n",
        "  if (salario < 10000) :\n",
        "     return [(salario)*0.05,True]\n",
        "  if (salario == 10000 or salario < 15000 ):\n",
        "     return [(salario)*0.1,True]\n",
        "  if (salario == 15000 or salario < 20000) :\n",
        "     return [(salario)*0.15,True]\n",
        "  if (salario >=20000):\n",
        "     return [(salario)*0.18,True]\n",
        "\n",
        "\n",
        "s = float (input(\"ingrese su salario :\"))\n",
        "res,status = descuento(s)\n",
        "\n",
        "if(status):\n",
        "  if (s < 10000):\n",
        "    print(\"a su salario se le aplicara el  5% de impuestos\")\n",
        "    print(\"su descuento de impuestos es :\",res)\n",
        "    print(\"su salario menos su impuesto es \",s-res,)\n",
        " \n",
        "  if (s >= 10000 and s < 15000):\n",
        "      print(\"a su salario se le aplicara el  10% de impuestos\")\n",
        "      print(\"su descuento de impuestos es :\",res)\n",
        "      print(\"su salario menos su impuesto es \",s-res,)\n",
        "\n",
        "  if (s >= 15000 and s < 20000 ):\n",
        "       print(\"a su salario se le aplicara el  15% de impuestos\")\n",
        "       print(\"su descuento de impuestos es :\",res)\n",
        "       print(\"su salario menos su impuesto es \",s-res,)\n",
        "  if (s >= 20000):\n",
        "         print(\"a su salario se le aplicara el  18% de impuestos\")\n",
        "         print(\"su descuento de impuestos es :\",res)\n",
        "         print(\"su salario menos su impuesto es \",s-res,)\n"
      ],
      "execution_count": 62,
      "outputs": [
        {
          "output_type": "stream",
          "text": [
            "problema 6 salarios \n",
            "ingrese su salario :25000\n",
            "a su salario se le aplicara el  18% de impuestos\n",
            "su descuento de impuestos es : 4500.0\n",
            "su salario menos su impuesto es  20500.0\n"
          ],
          "name": "stdout"
        }
      ]
    },
    {
      "cell_type": "code",
      "metadata": {
        "id": "NFlXMPiUBFC8",
        "outputId": "85804ff6-cc8f-40a7-8155-6739ffd64447",
        "colab": {
          "base_uri": "https://localhost:8080/"
        }
      },
      "source": [
        "print(\"problema 7\")\n",
        "def precio(edad,credencial):\n",
        "  if (edad >0 and edad <4):\n",
        "    if (credencial == 2 or 3 or 1 ):\n",
        "          print(\"debido a tu edad su entrada es gratis no se aplica credencial\")\n",
        "    \n",
        "  if (edad >=4 and edad <=16):\n",
        "        if (credencial == 1):\n",
        "          print(\"estudiante con 10% de descuento\")\n",
        "          print(\"total a pagar:\",50-(50*.1))\n",
        "        if (credencial == 2 and 3 ):\n",
        "          print(\"debido a tu edad no es posible que cuentes con esta tarjeta no se aplicara descuento\")\n",
        "          print(\"el pago correspondiente con su edad es :$50\")\n",
        "  if (edad > 16):\n",
        "        print(\"el pago correspondiente con su edad es :$100\")\n",
        "        if (credencial == 1 ):\n",
        "          print(\"estudiante con 10% de descuento\")\n",
        "          print(\"total a pagar:\",100-(100*.1))\n",
        "        if (credencial == 2 ):\n",
        "          print(\"docente con 30% de descuento\")\n",
        "          print(\"total a pagar:\",100-(100*.3))\n",
        "        if (credencial == 3 ):\n",
        "          print(\"cuenta con identificacion INAPAM 50% de descuento\")\n",
        "          print(\"total a pagar:\",100-(100*.5))\n",
        "print(\"Bienvenido\")\n",
        "e = int (input(\"ingrese su edad : \"))\n",
        "print(\"CREDENCIALES\") \n",
        "print(\"1. ESTUDIANTE CON CREDENCIAL\") \n",
        "print(\"2. DOCENTEN CON CREDENCIAL\") \n",
        "print(\"3. INAPAM\")\n",
        "c= int (input(\"cuenta con alguna identificacion, indique cual : \"))\n",
        "\n",
        "precio(e,c)\n",
        "\n"
      ],
      "execution_count": 80,
      "outputs": [
        {
          "output_type": "stream",
          "text": [
            "problema 7\n",
            "Bienvenido\n",
            "ingrese su edad : 15\n",
            "CREDENCIALES\n",
            "1. ESTUDIANTE CON CREDENCIAL\n",
            "2. DOCENTEN CON CREDENCIAL\n",
            "3. INAPAM\n",
            "cuenta con alguna identificacion, indique cual : 1\n",
            "estudiante con 10% de descuento\n",
            "total a pagar: 45.0\n"
          ],
          "name": "stdout"
        }
      ]
    },
    {
      "cell_type": "code",
      "metadata": {
        "id": "VWI2apHkoExf"
      },
      "source": [
        ""
      ],
      "execution_count": null,
      "outputs": []
    }
  ]
}